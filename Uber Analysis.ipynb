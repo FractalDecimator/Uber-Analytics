{
 "cells": [
  {
   "cell_type": "code",
   "id": "initial_id",
   "metadata": {
    "collapsed": true,
    "ExecuteTime": {
     "end_time": "2025-09-10T17:21:11.090549Z",
     "start_time": "2025-09-10T17:21:11.083901Z"
    }
   },
   "source": [
    "import csv\n",
    "import pandas as pd\n",
    "import numpy as np\n",
    "import matplotlib.pyplot as plt\n",
    "import seaborn as sns\n",
    "from scipy import stats"
   ],
   "outputs": [],
   "execution_count": 7
  },
  {
   "metadata": {
    "ExecuteTime": {
     "end_time": "2025-09-10T17:27:19.628340Z",
     "start_time": "2025-09-10T17:27:18.361165Z"
    }
   },
   "cell_type": "code",
   "source": [
    "df = pd.read_csv('uber_ncr_ride_bookings.csv')\n",
    "print(df)\n"
   ],
   "id": "9895e5989293a1a9",
   "outputs": [
    {
     "name": "stdout",
     "output_type": "stream",
     "text": [
      "              Date      Time    Booking ID   Booking Status   Customer ID  \\\n",
      "0       2024-03-23  12:29:38  \"CNR5884300\"  No Driver Found  \"CID1982111\"   \n",
      "1       2024-11-29  18:01:39  \"CNR1326809\"       Incomplete  \"CID4604802\"   \n",
      "2       2024-08-23  08:56:10  \"CNR8494506\"        Completed  \"CID9202816\"   \n",
      "3       2024-10-21  17:17:25  \"CNR8906825\"        Completed  \"CID2610914\"   \n",
      "4       2024-09-16  22:08:00  \"CNR1950162\"        Completed  \"CID9933542\"   \n",
      "...            ...       ...           ...              ...           ...   \n",
      "149995  2024-11-11  19:34:01  \"CNR6500631\"        Completed  \"CID4337371\"   \n",
      "149996  2024-11-24  15:55:09  \"CNR2468611\"        Completed  \"CID2325623\"   \n",
      "149997  2024-09-18  10:55:15  \"CNR6358306\"        Completed  \"CID9925486\"   \n",
      "149998  2024-10-05  07:53:34  \"CNR3030099\"        Completed  \"CID9415487\"   \n",
      "149999  2024-03-10  15:38:03  \"CNR3447390\"        Completed  \"CID4108667\"   \n",
      "\n",
      "         Vehicle Type         Pickup Location      Drop Location  Avg VTAT  \\\n",
      "0               eBike             Palam Vihar            Jhilmil       NaN   \n",
      "1            Go Sedan           Shastri Nagar  Gurgaon Sector 56       4.9   \n",
      "2                Auto                 Khandsa      Malviya Nagar      13.4   \n",
      "3       Premier Sedan     Central Secretariat           Inderlok      13.1   \n",
      "4                Bike        Ghitorni Village        Khan Market       5.3   \n",
      "...               ...                     ...                ...       ...   \n",
      "149995        Go Mini                 MG Road           Ghitorni      10.2   \n",
      "149996        Go Mini        Golf Course Road         Akshardham       5.1   \n",
      "149997       Go Sedan  Satguru Ram Singh Marg           Jor Bagh       2.7   \n",
      "149998           Auto               Ghaziabad         Saidulajab       6.9   \n",
      "149999  Premier Sedan         Ashok Park Main  Gurgaon Sector 29       3.5   \n",
      "\n",
      "        Avg CTAT  ...  Reason for cancelling by Customer  \\\n",
      "0            NaN  ...                                NaN   \n",
      "1           14.0  ...                                NaN   \n",
      "2           25.8  ...                                NaN   \n",
      "3           28.5  ...                                NaN   \n",
      "4           19.6  ...                                NaN   \n",
      "...          ...  ...                                ...   \n",
      "149995      44.4  ...                                NaN   \n",
      "149996      30.8  ...                                NaN   \n",
      "149997      23.4  ...                                NaN   \n",
      "149998      39.6  ...                                NaN   \n",
      "149999      33.7  ...                                NaN   \n",
      "\n",
      "       Cancelled Rides by Driver  Driver Cancellation Reason Incomplete Rides  \\\n",
      "0                            NaN                         NaN              NaN   \n",
      "1                            NaN                         NaN              1.0   \n",
      "2                            NaN                         NaN              NaN   \n",
      "3                            NaN                         NaN              NaN   \n",
      "4                            NaN                         NaN              NaN   \n",
      "...                          ...                         ...              ...   \n",
      "149995                       NaN                         NaN              NaN   \n",
      "149996                       NaN                         NaN              NaN   \n",
      "149997                       NaN                         NaN              NaN   \n",
      "149998                       NaN                         NaN              NaN   \n",
      "149999                       NaN                         NaN              NaN   \n",
      "\n",
      "        Incomplete Rides Reason Booking Value  Ride Distance  Driver Ratings  \\\n",
      "0                           NaN           NaN            NaN             NaN   \n",
      "1             Vehicle Breakdown         237.0           5.73             NaN   \n",
      "2                           NaN         627.0          13.58             4.9   \n",
      "3                           NaN         416.0          34.02             4.6   \n",
      "4                           NaN         737.0          48.21             4.1   \n",
      "...                         ...           ...            ...             ...   \n",
      "149995                      NaN         475.0          40.08             3.7   \n",
      "149996                      NaN        1093.0          21.31             4.8   \n",
      "149997                      NaN         852.0          15.93             3.9   \n",
      "149998                      NaN         333.0          45.54             4.1   \n",
      "149999                      NaN         806.0          21.19             4.6   \n",
      "\n",
      "        Customer Rating  Payment Method  \n",
      "0                   NaN             NaN  \n",
      "1                   NaN             UPI  \n",
      "2                   4.9      Debit Card  \n",
      "3                   5.0             UPI  \n",
      "4                   4.3             UPI  \n",
      "...                 ...             ...  \n",
      "149995              4.1     Uber Wallet  \n",
      "149996              5.0             UPI  \n",
      "149997              4.4            Cash  \n",
      "149998              3.7             UPI  \n",
      "149999              4.9     Credit Card  \n",
      "\n",
      "[150000 rows x 21 columns]\n"
     ]
    }
   ],
   "execution_count": 10
  },
  {
   "metadata": {
    "ExecuteTime": {
     "end_time": "2025-09-10T17:43:02.760426Z",
     "start_time": "2025-09-10T17:43:02.683127Z"
    }
   },
   "cell_type": "code",
   "source": [
    "numeric_df = df.select_dtypes(include=['number'])\n",
    "correlation_matrix = numeric_df.corr(method = 'pearson')\n",
    "print(\"Correlation Matrix of all numeric columns:\")\n",
    "print(correlation_matrix)\n",
    "columns_to_analyze = ['Booking Value', 'Customer Rating', 'Driver Ratings']\n",
    "\n",
    "# Check which columns actually exist in your dataframe\n",
    "existing_columns = [col for col in columns_to_analyze if col in df.columns]\n",
    "\n",
    "if existing_columns:\n",
    "    # Check if these columns are numeric\n",
    "    numeric_columns = []\n",
    "    for col in existing_columns:\n",
    "        if pd.api.types.is_numeric_dtype(df[col]):\n",
    "            numeric_columns.append(col)\n",
    "        else:\n",
    "            print(f\"Column '{col}' is not numeric. Converting if possible...\")\n",
    "            try:\n",
    "                df[col] = pd.to_numeric(df[col], errors='coerce')\n",
    "                if not df[col].isnull().all():\n",
    "                    numeric_columns.append(col)\n",
    "                else:\n",
    "                    print(f\"Could not convert '{col}' to numeric.\")\n",
    "            except:\n",
    "                print(f\"Failed to convert '{col}' to numeric.\")\n",
    "\n",
    "    if len(numeric_columns) >= 2:\n",
    "        correlation_matrix = df[numeric_columns].corr()\n",
    "        print(\"\\nCorrelation Matrix:\")\n",
    "        print(correlation_matrix)\n",
    "    else:\n",
    "        print(\"Not enough numeric columns for correlation analysis.\")\n",
    "else:\n",
    "    print(\"None of the specified columns found. Available columns:\")\n",
    "    print(df.columns.tolist())"
   ],
   "id": "211602bb3f86028f",
   "outputs": [
    {
     "name": "stdout",
     "output_type": "stream",
     "text": [
      "Correlation Matrix of all numeric columns:\n",
      "                             Avg VTAT  Avg CTAT  Cancelled Rides by Customer  \\\n",
      "Avg VTAT                     1.000000  0.062175                          NaN   \n",
      "Avg CTAT                     0.062175  1.000000                          NaN   \n",
      "Cancelled Rides by Customer       NaN       NaN                          NaN   \n",
      "Cancelled Rides by Driver         NaN       NaN                          NaN   \n",
      "Incomplete Rides                  NaN       NaN                          NaN   \n",
      "Booking Value                0.002259  0.000216                          NaN   \n",
      "Ride Distance                0.063005  0.101503                          NaN   \n",
      "Driver Ratings              -0.005439  0.000807                          NaN   \n",
      "Customer Rating             -0.003945  0.001000                          NaN   \n",
      "\n",
      "                             Cancelled Rides by Driver  Incomplete Rides  \\\n",
      "Avg VTAT                                           NaN               NaN   \n",
      "Avg CTAT                                           NaN               NaN   \n",
      "Cancelled Rides by Customer                        NaN               NaN   \n",
      "Cancelled Rides by Driver                          NaN               NaN   \n",
      "Incomplete Rides                                   NaN               NaN   \n",
      "Booking Value                                      NaN               NaN   \n",
      "Ride Distance                                      NaN               NaN   \n",
      "Driver Ratings                                     NaN               NaN   \n",
      "Customer Rating                                    NaN               NaN   \n",
      "\n",
      "                             Booking Value  Ride Distance  Driver Ratings  \\\n",
      "Avg VTAT                          0.002259       0.063005       -0.005439   \n",
      "Avg CTAT                          0.000216       0.101503        0.000807   \n",
      "Cancelled Rides by Customer            NaN            NaN             NaN   \n",
      "Cancelled Rides by Driver              NaN            NaN             NaN   \n",
      "Incomplete Rides                       NaN            NaN             NaN   \n",
      "Booking Value                     1.000000       0.005174       -0.000249   \n",
      "Ride Distance                     0.005174       1.000000       -0.001875   \n",
      "Driver Ratings                   -0.000249      -0.001875        1.000000   \n",
      "Customer Rating                  -0.000287       0.004514       -0.001010   \n",
      "\n",
      "                             Customer Rating  \n",
      "Avg VTAT                           -0.003945  \n",
      "Avg CTAT                            0.001000  \n",
      "Cancelled Rides by Customer              NaN  \n",
      "Cancelled Rides by Driver                NaN  \n",
      "Incomplete Rides                         NaN  \n",
      "Booking Value                      -0.000287  \n",
      "Ride Distance                       0.004514  \n",
      "Driver Ratings                     -0.001010  \n",
      "Customer Rating                     1.000000  \n",
      "\n",
      "Correlation Matrix:\n",
      "                 Booking Value  Customer Rating  Driver Ratings\n",
      "Booking Value         1.000000        -0.000287       -0.000249\n",
      "Customer Rating      -0.000287         1.000000       -0.001010\n",
      "Driver Ratings       -0.000249        -0.001010        1.000000\n"
     ]
    }
   ],
   "execution_count": 17
  },
  {
   "metadata": {
    "ExecuteTime": {
     "end_time": "2025-09-10T17:18:09.049433700Z",
     "start_time": "2025-09-10T16:35:12.529593Z"
    }
   },
   "cell_type": "code",
   "source": "df.to_csv(\"sample.csv\", columns=['Date','Booking ID'])",
   "id": "e824ede1958c79c4",
   "outputs": [],
   "execution_count": 3
  },
  {
   "metadata": {
    "ExecuteTime": {
     "end_time": "2025-09-10T17:18:09.050431800Z",
     "start_time": "2025-09-10T16:35:13.294854Z"
    }
   },
   "cell_type": "code",
   "source": [
    "df['booking_code'] = df['Booking ID'].str.extract(r'([A-Za-z]+)')\n",
    "df['booking_number'] = df['Booking ID'].str.extract(r'(\\d+)').astype(int)\n",
    "df['duplicate_count'] = df['booking_code'].duplicated().sum()\n",
    "df"
   ],
   "id": "78ed70ea6b1aea0f",
   "outputs": [
    {
     "data": {
      "text/plain": [
       "              Date      Time    Booking ID   Booking Status   Customer ID  \\\n",
       "0       2024-03-23  12:29:38  \"CNR5884300\"  No Driver Found  \"CID1982111\"   \n",
       "1       2024-11-29  18:01:39  \"CNR1326809\"       Incomplete  \"CID4604802\"   \n",
       "2       2024-08-23  08:56:10  \"CNR8494506\"        Completed  \"CID9202816\"   \n",
       "3       2024-10-21  17:17:25  \"CNR8906825\"        Completed  \"CID2610914\"   \n",
       "4       2024-09-16  22:08:00  \"CNR1950162\"        Completed  \"CID9933542\"   \n",
       "...            ...       ...           ...              ...           ...   \n",
       "149995  2024-11-11  19:34:01  \"CNR6500631\"        Completed  \"CID4337371\"   \n",
       "149996  2024-11-24  15:55:09  \"CNR2468611\"        Completed  \"CID2325623\"   \n",
       "149997  2024-09-18  10:55:15  \"CNR6358306\"        Completed  \"CID9925486\"   \n",
       "149998  2024-10-05  07:53:34  \"CNR3030099\"        Completed  \"CID9415487\"   \n",
       "149999  2024-03-10  15:38:03  \"CNR3447390\"        Completed  \"CID4108667\"   \n",
       "\n",
       "         Vehicle Type         Pickup Location      Drop Location  Avg VTAT  \\\n",
       "0               eBike             Palam Vihar            Jhilmil       NaN   \n",
       "1            Go Sedan           Shastri Nagar  Gurgaon Sector 56       4.9   \n",
       "2                Auto                 Khandsa      Malviya Nagar      13.4   \n",
       "3       Premier Sedan     Central Secretariat           Inderlok      13.1   \n",
       "4                Bike        Ghitorni Village        Khan Market       5.3   \n",
       "...               ...                     ...                ...       ...   \n",
       "149995        Go Mini                 MG Road           Ghitorni      10.2   \n",
       "149996        Go Mini        Golf Course Road         Akshardham       5.1   \n",
       "149997       Go Sedan  Satguru Ram Singh Marg           Jor Bagh       2.7   \n",
       "149998           Auto               Ghaziabad         Saidulajab       6.9   \n",
       "149999  Premier Sedan         Ashok Park Main  Gurgaon Sector 29       3.5   \n",
       "\n",
       "        Avg CTAT  ...  Incomplete Rides Incomplete Rides Reason  \\\n",
       "0            NaN  ...               NaN                     NaN   \n",
       "1           14.0  ...               1.0       Vehicle Breakdown   \n",
       "2           25.8  ...               NaN                     NaN   \n",
       "3           28.5  ...               NaN                     NaN   \n",
       "4           19.6  ...               NaN                     NaN   \n",
       "...          ...  ...               ...                     ...   \n",
       "149995      44.4  ...               NaN                     NaN   \n",
       "149996      30.8  ...               NaN                     NaN   \n",
       "149997      23.4  ...               NaN                     NaN   \n",
       "149998      39.6  ...               NaN                     NaN   \n",
       "149999      33.7  ...               NaN                     NaN   \n",
       "\n",
       "        Booking Value Ride Distance  Driver Ratings Customer Rating  \\\n",
       "0                 NaN           NaN             NaN             NaN   \n",
       "1               237.0          5.73             NaN             NaN   \n",
       "2               627.0         13.58             4.9             4.9   \n",
       "3               416.0         34.02             4.6             5.0   \n",
       "4               737.0         48.21             4.1             4.3   \n",
       "...               ...           ...             ...             ...   \n",
       "149995          475.0         40.08             3.7             4.1   \n",
       "149996         1093.0         21.31             4.8             5.0   \n",
       "149997          852.0         15.93             3.9             4.4   \n",
       "149998          333.0         45.54             4.1             3.7   \n",
       "149999          806.0         21.19             4.6             4.9   \n",
       "\n",
       "        Payment Method  booking_code  booking_number  duplicate_count  \n",
       "0                  NaN           CNR         5884300           149999  \n",
       "1                  UPI           CNR         1326809           149999  \n",
       "2           Debit Card           CNR         8494506           149999  \n",
       "3                  UPI           CNR         8906825           149999  \n",
       "4                  UPI           CNR         1950162           149999  \n",
       "...                ...           ...             ...              ...  \n",
       "149995     Uber Wallet           CNR         6500631           149999  \n",
       "149996             UPI           CNR         2468611           149999  \n",
       "149997            Cash           CNR         6358306           149999  \n",
       "149998             UPI           CNR         3030099           149999  \n",
       "149999     Credit Card           CNR         3447390           149999  \n",
       "\n",
       "[150000 rows x 24 columns]"
      ],
      "text/html": [
       "<div>\n",
       "<style scoped>\n",
       "    .dataframe tbody tr th:only-of-type {\n",
       "        vertical-align: middle;\n",
       "    }\n",
       "\n",
       "    .dataframe tbody tr th {\n",
       "        vertical-align: top;\n",
       "    }\n",
       "\n",
       "    .dataframe thead th {\n",
       "        text-align: right;\n",
       "    }\n",
       "</style>\n",
       "<table border=\"1\" class=\"dataframe\">\n",
       "  <thead>\n",
       "    <tr style=\"text-align: right;\">\n",
       "      <th></th>\n",
       "      <th>Date</th>\n",
       "      <th>Time</th>\n",
       "      <th>Booking ID</th>\n",
       "      <th>Booking Status</th>\n",
       "      <th>Customer ID</th>\n",
       "      <th>Vehicle Type</th>\n",
       "      <th>Pickup Location</th>\n",
       "      <th>Drop Location</th>\n",
       "      <th>Avg VTAT</th>\n",
       "      <th>Avg CTAT</th>\n",
       "      <th>...</th>\n",
       "      <th>Incomplete Rides</th>\n",
       "      <th>Incomplete Rides Reason</th>\n",
       "      <th>Booking Value</th>\n",
       "      <th>Ride Distance</th>\n",
       "      <th>Driver Ratings</th>\n",
       "      <th>Customer Rating</th>\n",
       "      <th>Payment Method</th>\n",
       "      <th>booking_code</th>\n",
       "      <th>booking_number</th>\n",
       "      <th>duplicate_count</th>\n",
       "    </tr>\n",
       "  </thead>\n",
       "  <tbody>\n",
       "    <tr>\n",
       "      <th>0</th>\n",
       "      <td>2024-03-23</td>\n",
       "      <td>12:29:38</td>\n",
       "      <td>\"CNR5884300\"</td>\n",
       "      <td>No Driver Found</td>\n",
       "      <td>\"CID1982111\"</td>\n",
       "      <td>eBike</td>\n",
       "      <td>Palam Vihar</td>\n",
       "      <td>Jhilmil</td>\n",
       "      <td>NaN</td>\n",
       "      <td>NaN</td>\n",
       "      <td>...</td>\n",
       "      <td>NaN</td>\n",
       "      <td>NaN</td>\n",
       "      <td>NaN</td>\n",
       "      <td>NaN</td>\n",
       "      <td>NaN</td>\n",
       "      <td>NaN</td>\n",
       "      <td>NaN</td>\n",
       "      <td>CNR</td>\n",
       "      <td>5884300</td>\n",
       "      <td>149999</td>\n",
       "    </tr>\n",
       "    <tr>\n",
       "      <th>1</th>\n",
       "      <td>2024-11-29</td>\n",
       "      <td>18:01:39</td>\n",
       "      <td>\"CNR1326809\"</td>\n",
       "      <td>Incomplete</td>\n",
       "      <td>\"CID4604802\"</td>\n",
       "      <td>Go Sedan</td>\n",
       "      <td>Shastri Nagar</td>\n",
       "      <td>Gurgaon Sector 56</td>\n",
       "      <td>4.9</td>\n",
       "      <td>14.0</td>\n",
       "      <td>...</td>\n",
       "      <td>1.0</td>\n",
       "      <td>Vehicle Breakdown</td>\n",
       "      <td>237.0</td>\n",
       "      <td>5.73</td>\n",
       "      <td>NaN</td>\n",
       "      <td>NaN</td>\n",
       "      <td>UPI</td>\n",
       "      <td>CNR</td>\n",
       "      <td>1326809</td>\n",
       "      <td>149999</td>\n",
       "    </tr>\n",
       "    <tr>\n",
       "      <th>2</th>\n",
       "      <td>2024-08-23</td>\n",
       "      <td>08:56:10</td>\n",
       "      <td>\"CNR8494506\"</td>\n",
       "      <td>Completed</td>\n",
       "      <td>\"CID9202816\"</td>\n",
       "      <td>Auto</td>\n",
       "      <td>Khandsa</td>\n",
       "      <td>Malviya Nagar</td>\n",
       "      <td>13.4</td>\n",
       "      <td>25.8</td>\n",
       "      <td>...</td>\n",
       "      <td>NaN</td>\n",
       "      <td>NaN</td>\n",
       "      <td>627.0</td>\n",
       "      <td>13.58</td>\n",
       "      <td>4.9</td>\n",
       "      <td>4.9</td>\n",
       "      <td>Debit Card</td>\n",
       "      <td>CNR</td>\n",
       "      <td>8494506</td>\n",
       "      <td>149999</td>\n",
       "    </tr>\n",
       "    <tr>\n",
       "      <th>3</th>\n",
       "      <td>2024-10-21</td>\n",
       "      <td>17:17:25</td>\n",
       "      <td>\"CNR8906825\"</td>\n",
       "      <td>Completed</td>\n",
       "      <td>\"CID2610914\"</td>\n",
       "      <td>Premier Sedan</td>\n",
       "      <td>Central Secretariat</td>\n",
       "      <td>Inderlok</td>\n",
       "      <td>13.1</td>\n",
       "      <td>28.5</td>\n",
       "      <td>...</td>\n",
       "      <td>NaN</td>\n",
       "      <td>NaN</td>\n",
       "      <td>416.0</td>\n",
       "      <td>34.02</td>\n",
       "      <td>4.6</td>\n",
       "      <td>5.0</td>\n",
       "      <td>UPI</td>\n",
       "      <td>CNR</td>\n",
       "      <td>8906825</td>\n",
       "      <td>149999</td>\n",
       "    </tr>\n",
       "    <tr>\n",
       "      <th>4</th>\n",
       "      <td>2024-09-16</td>\n",
       "      <td>22:08:00</td>\n",
       "      <td>\"CNR1950162\"</td>\n",
       "      <td>Completed</td>\n",
       "      <td>\"CID9933542\"</td>\n",
       "      <td>Bike</td>\n",
       "      <td>Ghitorni Village</td>\n",
       "      <td>Khan Market</td>\n",
       "      <td>5.3</td>\n",
       "      <td>19.6</td>\n",
       "      <td>...</td>\n",
       "      <td>NaN</td>\n",
       "      <td>NaN</td>\n",
       "      <td>737.0</td>\n",
       "      <td>48.21</td>\n",
       "      <td>4.1</td>\n",
       "      <td>4.3</td>\n",
       "      <td>UPI</td>\n",
       "      <td>CNR</td>\n",
       "      <td>1950162</td>\n",
       "      <td>149999</td>\n",
       "    </tr>\n",
       "    <tr>\n",
       "      <th>...</th>\n",
       "      <td>...</td>\n",
       "      <td>...</td>\n",
       "      <td>...</td>\n",
       "      <td>...</td>\n",
       "      <td>...</td>\n",
       "      <td>...</td>\n",
       "      <td>...</td>\n",
       "      <td>...</td>\n",
       "      <td>...</td>\n",
       "      <td>...</td>\n",
       "      <td>...</td>\n",
       "      <td>...</td>\n",
       "      <td>...</td>\n",
       "      <td>...</td>\n",
       "      <td>...</td>\n",
       "      <td>...</td>\n",
       "      <td>...</td>\n",
       "      <td>...</td>\n",
       "      <td>...</td>\n",
       "      <td>...</td>\n",
       "      <td>...</td>\n",
       "    </tr>\n",
       "    <tr>\n",
       "      <th>149995</th>\n",
       "      <td>2024-11-11</td>\n",
       "      <td>19:34:01</td>\n",
       "      <td>\"CNR6500631\"</td>\n",
       "      <td>Completed</td>\n",
       "      <td>\"CID4337371\"</td>\n",
       "      <td>Go Mini</td>\n",
       "      <td>MG Road</td>\n",
       "      <td>Ghitorni</td>\n",
       "      <td>10.2</td>\n",
       "      <td>44.4</td>\n",
       "      <td>...</td>\n",
       "      <td>NaN</td>\n",
       "      <td>NaN</td>\n",
       "      <td>475.0</td>\n",
       "      <td>40.08</td>\n",
       "      <td>3.7</td>\n",
       "      <td>4.1</td>\n",
       "      <td>Uber Wallet</td>\n",
       "      <td>CNR</td>\n",
       "      <td>6500631</td>\n",
       "      <td>149999</td>\n",
       "    </tr>\n",
       "    <tr>\n",
       "      <th>149996</th>\n",
       "      <td>2024-11-24</td>\n",
       "      <td>15:55:09</td>\n",
       "      <td>\"CNR2468611\"</td>\n",
       "      <td>Completed</td>\n",
       "      <td>\"CID2325623\"</td>\n",
       "      <td>Go Mini</td>\n",
       "      <td>Golf Course Road</td>\n",
       "      <td>Akshardham</td>\n",
       "      <td>5.1</td>\n",
       "      <td>30.8</td>\n",
       "      <td>...</td>\n",
       "      <td>NaN</td>\n",
       "      <td>NaN</td>\n",
       "      <td>1093.0</td>\n",
       "      <td>21.31</td>\n",
       "      <td>4.8</td>\n",
       "      <td>5.0</td>\n",
       "      <td>UPI</td>\n",
       "      <td>CNR</td>\n",
       "      <td>2468611</td>\n",
       "      <td>149999</td>\n",
       "    </tr>\n",
       "    <tr>\n",
       "      <th>149997</th>\n",
       "      <td>2024-09-18</td>\n",
       "      <td>10:55:15</td>\n",
       "      <td>\"CNR6358306\"</td>\n",
       "      <td>Completed</td>\n",
       "      <td>\"CID9925486\"</td>\n",
       "      <td>Go Sedan</td>\n",
       "      <td>Satguru Ram Singh Marg</td>\n",
       "      <td>Jor Bagh</td>\n",
       "      <td>2.7</td>\n",
       "      <td>23.4</td>\n",
       "      <td>...</td>\n",
       "      <td>NaN</td>\n",
       "      <td>NaN</td>\n",
       "      <td>852.0</td>\n",
       "      <td>15.93</td>\n",
       "      <td>3.9</td>\n",
       "      <td>4.4</td>\n",
       "      <td>Cash</td>\n",
       "      <td>CNR</td>\n",
       "      <td>6358306</td>\n",
       "      <td>149999</td>\n",
       "    </tr>\n",
       "    <tr>\n",
       "      <th>149998</th>\n",
       "      <td>2024-10-05</td>\n",
       "      <td>07:53:34</td>\n",
       "      <td>\"CNR3030099\"</td>\n",
       "      <td>Completed</td>\n",
       "      <td>\"CID9415487\"</td>\n",
       "      <td>Auto</td>\n",
       "      <td>Ghaziabad</td>\n",
       "      <td>Saidulajab</td>\n",
       "      <td>6.9</td>\n",
       "      <td>39.6</td>\n",
       "      <td>...</td>\n",
       "      <td>NaN</td>\n",
       "      <td>NaN</td>\n",
       "      <td>333.0</td>\n",
       "      <td>45.54</td>\n",
       "      <td>4.1</td>\n",
       "      <td>3.7</td>\n",
       "      <td>UPI</td>\n",
       "      <td>CNR</td>\n",
       "      <td>3030099</td>\n",
       "      <td>149999</td>\n",
       "    </tr>\n",
       "    <tr>\n",
       "      <th>149999</th>\n",
       "      <td>2024-03-10</td>\n",
       "      <td>15:38:03</td>\n",
       "      <td>\"CNR3447390\"</td>\n",
       "      <td>Completed</td>\n",
       "      <td>\"CID4108667\"</td>\n",
       "      <td>Premier Sedan</td>\n",
       "      <td>Ashok Park Main</td>\n",
       "      <td>Gurgaon Sector 29</td>\n",
       "      <td>3.5</td>\n",
       "      <td>33.7</td>\n",
       "      <td>...</td>\n",
       "      <td>NaN</td>\n",
       "      <td>NaN</td>\n",
       "      <td>806.0</td>\n",
       "      <td>21.19</td>\n",
       "      <td>4.6</td>\n",
       "      <td>4.9</td>\n",
       "      <td>Credit Card</td>\n",
       "      <td>CNR</td>\n",
       "      <td>3447390</td>\n",
       "      <td>149999</td>\n",
       "    </tr>\n",
       "  </tbody>\n",
       "</table>\n",
       "<p>150000 rows × 24 columns</p>\n",
       "</div>"
      ]
     },
     "execution_count": 4,
     "metadata": {},
     "output_type": "execute_result"
    }
   ],
   "execution_count": 4
  },
  {
   "metadata": {
    "ExecuteTime": {
     "end_time": "2025-09-10T17:18:09.071377200Z",
     "start_time": "2025-09-10T16:35:15.051076Z"
    }
   },
   "cell_type": "code",
   "source": [
    "# Group by booking_code and count occurrences\n",
    "grouped = df.groupby('booking_code').size().reset_index(name='count')\n",
    "duplicate_groups = grouped[grouped['count'] > 1]\n",
    "\n",
    "print(\"Booking codes with duplicates:\")\n",
    "print(duplicate_groups)\n",
    "\n",
    "# Total rows that are duplicates\n",
    "total_duplicate_rows = duplicate_groups['count'].sum() - len(duplicate_groups)\n",
    "print(f\"\\nTotal duplicate rows: {total_duplicate_rows}\")"
   ],
   "id": "aeb668f17e9b77fb",
   "outputs": [
    {
     "name": "stdout",
     "output_type": "stream",
     "text": [
      "Booking codes with duplicates:\n",
      "  booking_code   count\n",
      "0          CNR  150000\n",
      "\n",
      "Total duplicate rows: 149999\n"
     ]
    }
   ],
   "execution_count": 5
  },
  {
   "metadata": {
    "ExecuteTime": {
     "end_time": "2025-09-10T17:18:09.072375Z",
     "start_time": "2025-09-10T16:35:15.797906Z"
    }
   },
   "cell_type": "code",
   "source": "print(df.isnull().sum())",
   "id": "9d10f3e2ed3a8e7a",
   "outputs": [
    {
     "name": "stdout",
     "output_type": "stream",
     "text": [
      "Date                                      0\n",
      "Time                                      0\n",
      "Booking ID                                0\n",
      "Booking Status                            0\n",
      "Customer ID                               0\n",
      "Vehicle Type                              0\n",
      "Pickup Location                           0\n",
      "Drop Location                             0\n",
      "Avg VTAT                              10500\n",
      "Avg CTAT                              48000\n",
      "Cancelled Rides by Customer          139500\n",
      "Reason for cancelling by Customer    139500\n",
      "Cancelled Rides by Driver            123000\n",
      "Driver Cancellation Reason           123000\n",
      "Incomplete Rides                     141000\n",
      "Incomplete Rides Reason              141000\n",
      "Booking Value                         48000\n",
      "Ride Distance                         48000\n",
      "Driver Ratings                        57000\n",
      "Customer Rating                       57000\n",
      "Payment Method                        48000\n",
      "booking_code                              0\n",
      "booking_number                            0\n",
      "duplicate_count                           0\n",
      "dtype: int64\n"
     ]
    }
   ],
   "execution_count": 6
  },
  {
   "metadata": {
    "ExecuteTime": {
     "end_time": "2025-09-10T17:18:09.074368Z",
     "start_time": "2025-09-10T16:35:18.482625Z"
    }
   },
   "cell_type": "code",
   "source": [
    "sns.countplot(x=df['Payment Method'])\n",
    "plt.xlabel(\"payment method\")"
   ],
   "id": "2a24c2ae4a0ade47",
   "outputs": [
    {
     "data": {
      "text/plain": [
       "Text(0.5, 0, 'payment method')"
      ]
     },
     "execution_count": 7,
     "metadata": {},
     "output_type": "execute_result"
    },
    {
     "data": {
      "text/plain": [
       "<Figure size 640x480 with 1 Axes>"
      ],
      "image/png": "[encoded data removed]"
     },
     "metadata": {},
     "output_type": "display_data"
    }
   ],
   "execution_count": 7
  },
  {
   "metadata": {
    "ExecuteTime": {
     "end_time": "2025-09-10T17:18:09.076363400Z",
     "start_time": "2025-09-10T16:35:21.159317Z"
    }
   },
   "cell_type": "code",
   "source": [
    "sns.countplot(x=df['Vehicle Type'])\n",
    "plt.xlabel(\"Vehicle Type\")"
   ],
   "id": "2664dbd323db24ad",
   "outputs": [
    {
     "data": {
      "text/plain": [
       "Text(0.5, 0, 'Vehicle Type')"
      ]
     },
     "execution_count": 8,
     "metadata": {},
     "output_type": "execute_result"
    },
    {
     "data": {
      "text/plain": [
       "<Figure size 640x480 with 1 Axes>"
      ],
      "image/png": "[encoded data removed]"
     },
     "metadata": {},
     "output_type": "display_data"
    }
   ],
   "execution_count": 8
  },
  {
   "metadata": {
    "ExecuteTime": {
     "end_time": "2025-09-10T17:18:09.077360900Z",
     "start_time": "2025-09-10T16:35:23.034021Z"
    }
   },
   "cell_type": "code",
   "source": [
    "plt.style.use('default')\n",
    "sns.set_palette(\"pastel\")\n",
    "\n",
    "# Assuming your DataFrame is named 'df' and column is 'vehicle_type'\n",
    "vehicle_counts = df['Vehicle Type'].value_counts()\n",
    "\n",
    "# Create pie chart\n",
    "plt.figure(figsize=(5, 8))\n",
    "plt.pie(vehicle_counts.values, labels=vehicle_counts.index, autopct='%1.1f%%')\n",
    "plt.title('Distribution of Vehicle Types', fontsize=16, fontweight='bold')\n",
    "plt.show()"
   ],
   "id": "9883df7e5ebb2552",
   "outputs": [
    {
     "data": {
      "text/plain": [
       "<Figure size 500x800 with 1 Axes>"
      ],
      "image/png": "[encoded data removed]"
     },
     "metadata": {},
     "output_type": "display_data"
    }
   ],
   "execution_count": 9
  },
  {
   "metadata": {
    "ExecuteTime": {
     "end_time": "2025-09-10T17:18:09.078357900Z",
     "start_time": "2025-09-10T16:42:07.299936Z"
    }
   },
   "cell_type": "code",
   "source": [
    "plt.figure(figsize = (6,6))\n",
    "sns.boxplot(x = 'Customer Rating', y = 'Driver Ratings', data = df)"
   ],
   "id": "41ff74904547d548",
   "outputs": [
    {
     "data": {
      "text/plain": [
       "<Axes: xlabel='Customer Rating', ylabel='Driver Ratings'>"
      ]
     },
     "execution_count": 16,
     "metadata": {},
     "output_type": "execute_result"
    },
    {
     "data": {
      "text/plain": [
       "<Figure size 600x600 with 1 Axes>"
      ],
      "image/png": "[encoded data removed]"
     },
     "metadata": {},
     "output_type": "display_data"
    }
   ],
   "execution_count": 16
  },
  {
   "metadata": {
    "ExecuteTime": {
     "end_time": "2025-09-10T17:18:09.079356400Z",
     "start_time": "2025-09-10T16:42:50.576814Z"
    }
   },
   "cell_type": "code",
   "source": [
    "pivot_table = df.pivot_table(index='Payment Method', columns='Booking Status', aggfunc='size', fill_value=0)\n",
    "sns.heatmap(pivot_table, annot=True, cmap='YlGnBu', fmt='d')\n",
    "plt.title('Heatmap')\n",
    "plt.xlabel('Booking Status')\n",
    "plt.ylabel('Payment Method')\n",
    "plt.show()"
   ],
   "id": "4e50dfb1e7af86ee",
   "outputs": [
    {
     "data": {
      "text/plain": [
       "<Figure size 640x480 with 2 Axes>"
      ],
      "image/png": "[encoded data removed]"
     },
     "metadata": {},
     "output_type": "display_data"
    }
   ],
   "execution_count": 17
  },
  {
   "metadata": {
    "ExecuteTime": {
     "end_time": "2025-09-10T17:18:09.081348800Z",
     "start_time": "2025-09-09T17:39:36.280906Z"
    }
   },
   "cell_type": "code",
   "source": [
    "max_ride_distance = df['Ride Distance'].max()\n",
    "uber_rides_with_max_distance = df.loc[df['Ride Distance'] == max_ride_distance, 'Vehicle Type']\n",
    "print('max_ride_distance:')\n",
    "print(uber_rides_with_max_distance)"
   ],
   "id": "dae64bd9749b2da8",
   "outputs": [
    {
     "name": "stdout",
     "output_type": "stream",
     "text": [
      "max_ride_distance:\n",
      "5480      Go Sedan\n",
      "40358         Bike\n",
      "72284     Go Sedan\n",
      "81910     Go Sedan\n",
      "85964         Auto\n",
      "86963         Auto\n",
      "88732      Go Mini\n",
      "119632        Auto\n",
      "145409     Go Mini\n",
      "Name: Vehicle Type, dtype: object\n"
     ]
    }
   ],
   "execution_count": 30
  }
 ],
 "metadata": {
  "kernelspec": {
   "display_name": "Python 3",
   "language": "python",
   "name": "python3"
  },
  "language_info": {
   "codemirror_mode": {
    "name": "ipython",
    "version": 2
   },
   "file_extension": ".py",
   "mimetype": "text/x-python",
   "name": "python",
   "nbconvert_exporter": "python",
   "pygments_lexer": "ipython2",
   "version": "2.7.6"
  }
 },
 "nbformat": 4,
 "nbformat_minor": 5
}
